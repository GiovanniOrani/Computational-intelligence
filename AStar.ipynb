{
 "cells": [
  {
   "cell_type": "code",
   "execution_count": 14,
   "metadata": {},
   "outputs": [],
   "source": [
    "from random import random\n",
    "from math import ceil\n",
    "from functools import reduce\n",
    "from collections import namedtuple, deque\n",
    "from queue import PriorityQueue\n",
    "\n",
    "import numpy as np\n",
    "from tqdm.auto import tqdm"
   ]
  },
  {
   "cell_type": "code",
   "execution_count": 2,
   "metadata": {},
   "outputs": [],
   "source": [
    "State = namedtuple('State', ['taken', 'not_taken'])\n",
    "\n",
    "\n",
    "def covered(state):\n",
    "    return reduce(\n",
    "        np.logical_or,\n",
    "        [SETS[i] for i in state.taken],\n",
    "        np.array([False for _ in range(PROBLEM_SIZE)]),\n",
    "    )\n",
    "\n",
    "\n",
    "def goal_check(state):\n",
    "    return np.all(covered(state))"
   ]
  },
  {
   "cell_type": "code",
   "execution_count": 3,
   "metadata": {},
   "outputs": [],
   "source": [
    "PROBLEM_SIZE = 8\n",
    "NUM_SETS = 16\n",
    "SETS = tuple(np.array([random() < 0.2 for _ in range(PROBLEM_SIZE)]) for _ in range(NUM_SETS))\n",
    "assert goal_check(State(set(range(NUM_SETS)), set())), \"Probelm not solvable\""
   ]
  },
  {
   "cell_type": "code",
   "execution_count": 4,
   "metadata": {},
   "outputs": [
    {
     "data": {
      "text/plain": [
       "(array([False,  True, False, False, False, False, False, False]),\n",
       " array([False, False,  True,  True,  True, False, False,  True]),\n",
       " array([ True, False, False, False,  True,  True, False, False]),\n",
       " array([ True, False, False, False, False, False, False,  True]),\n",
       " array([False,  True, False,  True, False, False, False,  True]),\n",
       " array([False, False, False, False, False, False,  True, False]),\n",
       " array([False, False, False,  True, False, False, False, False]),\n",
       " array([False, False,  True, False, False, False, False, False]),\n",
       " array([False, False,  True, False, False, False, False, False]),\n",
       " array([False, False,  True,  True, False, False, False,  True]),\n",
       " array([False, False, False,  True, False, False, False,  True]),\n",
       " array([False, False, False, False, False, False, False, False]),\n",
       " array([False, False, False, False, False, False, False, False]),\n",
       " array([ True, False, False, False, False,  True, False, False]),\n",
       " array([False, False, False, False,  True,  True, False, False]),\n",
       " array([False, False, False, False, False, False,  True, False]))"
      ]
     },
     "execution_count": 4,
     "metadata": {},
     "output_type": "execute_result"
    }
   ],
   "source": [
    "SETS"
   ]
  },
  {
   "cell_type": "code",
   "execution_count": 11,
   "metadata": {},
   "outputs": [],
   "source": [
    "def h(state):\n",
    "    largest_set_size = max(sum(s) for s in SETS)\n",
    "    missing_size = PROBLEM_SIZE - sum(covered(state))\n",
    "    optimistic_estimate = ceil(missing_size / largest_set_size)\n",
    "    return optimistic_estimate\n",
    "\n",
    "\n",
    "def h2(state):\n",
    "    already_covered = covered(state)\n",
    "    if np.all(already_covered):\n",
    "        return 0\n",
    "    largest_set_size = max(sum(np.logical_and(s, np.logical_not(already_covered))) for s in SETS)\n",
    "    missing_size = PROBLEM_SIZE - sum(already_covered)\n",
    "    optimistic_estimate = ceil(missing_size / largest_set_size)\n",
    "    return optimistic_estimate\n",
    "\n",
    "\n",
    "def h3(state):\n",
    "    already_covered = covered(state)\n",
    "    if np.all(already_covered):\n",
    "        return 0\n",
    "    missing_size = PROBLEM_SIZE - sum(already_covered)\n",
    "    candidates = sorted((sum(np.logical_and(s, np.logical_not(already_covered))) for s in SETS), reverse=True)\n",
    "    taken = 1\n",
    "    while sum(candidates[:taken]) < missing_size:\n",
    "        taken += 1\n",
    "    return taken\n",
    "\n",
    "\n",
    "# This is a greedy approach, not as efficient as h3, but often returns results with the same number of tiles \n",
    "# with fewer steps, although sometimes it returns results with more tiles depending on the set.\"\n",
    "def h_greedy(state):\n",
    "    already_covered = covered(state)\n",
    "    if np.all(already_covered):\n",
    "        return 0  # If all the elements are already cover the remaining cost is 0\n",
    "    missing_size = PROBLEM_SIZE - np.sum(already_covered)\n",
    "\n",
    "    taken = 0\n",
    "    while np.any(already_covered == False) and taken < missing_size:\n",
    "        #find the set with the maximum cover left\n",
    "        max_covering_set = None\n",
    "        max_covering_size = -1\n",
    "        for i, s in enumerate(SETS):\n",
    "            if i not in state.taken:\n",
    "                covering_size = np.sum(np.logical_and(s, np.logical_not(already_covered)))\n",
    "                if covering_size > max_covering_size:\n",
    "                    max_covering_size = covering_size\n",
    "                    max_covering_set = s\n",
    "        \n",
    "        #then adds the founded set\n",
    "        if max_covering_set is not None:\n",
    "            state.taken.add(i)\n",
    "            already_covered = np.logical_or(already_covered, max_covering_set)\n",
    "            taken += 1\n",
    "        else:\n",
    "            break\n",
    "    \n",
    "    return taken\n",
    "\n",
    "\n",
    "\n",
    "def f(state):\n",
    "    return len(state.taken) + h3(state)\n",
    "\n"
   ]
  },
  {
   "cell_type": "code",
   "execution_count": 12,
   "metadata": {},
   "outputs": [
    {
     "name": "stderr",
     "output_type": "stream",
     "text": [
      "48it [00:00, 1682.54it/s]"
     ]
    },
    {
     "name": "stdout",
     "output_type": "stream",
     "text": [
      "State(taken={0}, not_taken={1, 2, 3, 4, 5, 6, 7, 8, 9, 10, 11, 12, 13, 14, 15})\n",
      "State(taken={2}, not_taken={0, 1, 3, 4, 5, 6, 7, 8, 9, 10, 11, 12, 13, 14, 15})\n",
      "State(taken={13}, not_taken={0, 1, 2, 3, 4, 5, 6, 7, 8, 9, 10, 11, 12, 14, 15})\n",
      "State(taken={14}, not_taken={0, 1, 2, 3, 4, 5, 6, 7, 8, 9, 10, 11, 12, 13, 15})\n",
      "State(taken={5}, not_taken={0, 1, 2, 3, 4, 6, 7, 8, 9, 10, 11, 12, 13, 14, 15})\n",
      "State(taken={1}, not_taken={0, 2, 3, 4, 5, 6, 7, 8, 9, 10, 11, 12, 13, 14, 15})\n",
      "State(taken={4}, not_taken={0, 1, 2, 3, 5, 6, 7, 8, 9, 10, 11, 12, 13, 14, 15})\n",
      "State(taken={9}, not_taken={0, 1, 2, 3, 4, 5, 6, 7, 8, 10, 11, 12, 13, 14, 15})\n",
      "State(taken={15}, not_taken={0, 1, 2, 3, 4, 5, 6, 7, 8, 9, 10, 11, 12, 13, 14})\n",
      "State(taken={7}, not_taken={0, 1, 2, 3, 4, 5, 6, 8, 9, 10, 11, 12, 13, 14, 15})\n",
      "State(taken={0, 15}, not_taken={1, 2, 3, 4, 5, 6, 7, 8, 9, 10, 11, 12, 13, 14})\n",
      "State(taken={1, 2}, not_taken={0, 3, 4, 5, 6, 7, 8, 9, 10, 11, 12, 13, 14, 15})\n",
      "State(taken={13, 15}, not_taken={0, 1, 2, 3, 4, 5, 6, 7, 8, 9, 10, 11, 12, 14})\n",
      "State(taken={5, 14}, not_taken={0, 1, 2, 3, 4, 6, 7, 8, 9, 10, 11, 12, 13, 15})\n",
      "State(taken={9, 11}, not_taken={0, 1, 2, 3, 4, 5, 6, 7, 8, 10, 12, 13, 14, 15})\n",
      "State(taken={12}, not_taken={0, 1, 2, 3, 4, 5, 6, 7, 8, 9, 10, 11, 13, 14, 15})\n",
      "State(taken={9, 12}, not_taken={0, 1, 2, 3, 4, 5, 6, 7, 8, 10, 11, 13, 14, 15})\n",
      "State(taken={14, 15}, not_taken={0, 1, 2, 3, 4, 5, 6, 7, 8, 9, 10, 11, 12, 13})\n",
      "State(taken={1, 2, 15}, not_taken={0, 3, 4, 5, 6, 7, 8, 9, 10, 11, 12, 13, 14})\n",
      "State(taken={0, 2}, not_taken={1, 3, 4, 5, 6, 7, 8, 9, 10, 11, 12, 13, 14, 15})\n",
      "State(taken={3, 14}, not_taken={0, 1, 2, 4, 5, 6, 7, 8, 9, 10, 11, 12, 13, 15})\n",
      "State(taken={10}, not_taken={0, 1, 2, 3, 4, 5, 6, 7, 8, 9, 11, 12, 13, 14, 15})\n",
      "State(taken={9, 10}, not_taken={0, 1, 2, 3, 4, 5, 6, 7, 8, 11, 12, 13, 14, 15})\n",
      "State(taken={8}, not_taken={0, 1, 2, 3, 4, 5, 6, 7, 9, 10, 11, 12, 13, 14, 15})\n",
      "State(taken={8, 9}, not_taken={0, 1, 2, 3, 4, 5, 6, 7, 10, 11, 12, 13, 14, 15})\n",
      "State(taken={12, 15}, not_taken={0, 1, 2, 3, 4, 5, 6, 7, 8, 9, 10, 11, 13, 14})\n",
      "State(taken={2, 14}, not_taken={0, 1, 3, 4, 5, 6, 7, 8, 9, 10, 11, 12, 13, 15})\n",
      "State(taken={9, 7}, not_taken={0, 1, 2, 3, 4, 5, 6, 8, 10, 11, 12, 13, 14, 15})\n",
      "State(taken={6}, not_taken={0, 1, 2, 3, 4, 5, 7, 8, 9, 10, 11, 12, 13, 14, 15})\n",
      "State(taken={9, 6}, not_taken={0, 1, 2, 3, 4, 5, 7, 8, 10, 11, 12, 13, 14, 15})\n",
      "State(taken={0, 14}, not_taken={1, 2, 3, 4, 5, 6, 7, 8, 9, 10, 11, 12, 13, 15})\n",
      "State(taken={9, 4}, not_taken={0, 1, 2, 3, 5, 6, 7, 8, 10, 11, 12, 13, 14, 15})\n",
      "State(taken={9, 5}, not_taken={0, 1, 2, 3, 4, 6, 7, 8, 10, 11, 12, 13, 14, 15})\n",
      "State(taken={0, 14}, not_taken={1, 2, 3, 4, 5, 6, 7, 8, 9, 10, 11, 12, 13, 15})\n",
      "State(taken={9, 3}, not_taken={0, 1, 2, 4, 5, 6, 7, 8, 10, 11, 12, 13, 14, 15})\n",
      "State(taken={12, 14}, not_taken={0, 1, 2, 3, 4, 5, 6, 7, 8, 9, 10, 11, 13, 15})\n",
      "State(taken={9, 2}, not_taken={0, 1, 3, 4, 5, 6, 7, 8, 10, 11, 12, 13, 14, 15})\n",
      "State(taken={12, 13}, not_taken={0, 1, 2, 3, 4, 5, 6, 7, 8, 9, 10, 11, 14, 15})\n",
      "State(taken={0, 13}, not_taken={1, 2, 3, 4, 5, 6, 7, 8, 9, 10, 11, 12, 14, 15})\n",
      "State(taken={13, 14}, not_taken={0, 1, 2, 3, 4, 5, 6, 7, 8, 9, 10, 11, 12, 15})\n",
      "State(taken={0, 9, 2}, not_taken={1, 3, 4, 5, 6, 7, 8, 10, 11, 12, 13, 14, 15})\n",
      "State(taken={9, 2, 4}, not_taken={0, 1, 3, 5, 6, 7, 8, 10, 11, 12, 13, 14, 15})\n",
      "State(taken={9, 2, 15}, not_taken={0, 1, 3, 4, 5, 6, 7, 8, 10, 11, 12, 13, 14})\n",
      "State(taken={9, 2, 5}, not_taken={0, 1, 3, 4, 6, 7, 8, 10, 11, 12, 13, 14, 15})\n",
      "State(taken={1, 9}, not_taken={0, 2, 3, 4, 5, 6, 7, 8, 10, 11, 12, 13, 14, 15})\n",
      "State(taken={9, 12}, not_taken={0, 1, 2, 3, 4, 5, 6, 7, 8, 10, 11, 13, 14, 15})\n",
      "State(taken={0, 9}, not_taken={1, 2, 3, 4, 5, 6, 7, 8, 10, 11, 12, 13, 14, 15})\n",
      "State(taken={0, 9, 2, 15}, not_taken={1, 3, 4, 5, 6, 7, 8, 10, 11, 12, 13, 14})\n",
      "Solved in 48 steps (4 tiles)\n"
     ]
    },
    {
     "name": "stderr",
     "output_type": "stream",
     "text": [
      "\n"
     ]
    }
   ],
   "source": [
    "frontier = PriorityQueue()\n",
    "state = State(set(), set(range(NUM_SETS)))\n",
    "frontier.put((f(state), state))\n",
    "\n",
    "counter = 0\n",
    "_, current_state = frontier.get()\n",
    "with tqdm(total=None) as pbar:\n",
    "    while not goal_check(current_state):\n",
    "        counter += 1\n",
    "        for action in current_state[1]:\n",
    "            new_state = State(\n",
    "                current_state.taken ^ {action},\n",
    "                current_state.not_taken ^ {action},\n",
    "            )\n",
    "            frontier.put((f(new_state), new_state))\n",
    "           \n",
    "        _, current_state = frontier.get()\n",
    "        print(current_state)\n",
    "        pbar.update(1)\n",
    "\n",
    "print(f\"Solved in {counter:,} steps ({len(current_state.taken)} tiles)\")"
   ]
  },
  {
   "cell_type": "code",
   "execution_count": 13,
   "metadata": {},
   "outputs": [
    {
     "data": {
      "text/plain": [
       "State(taken={0, 9, 2, 15}, not_taken={1, 3, 4, 5, 6, 7, 8, 10, 11, 12, 13, 14})"
      ]
     },
     "execution_count": 13,
     "metadata": {},
     "output_type": "execute_result"
    }
   ],
   "source": [
    "current_state"
   ]
  }
 ],
 "metadata": {
  "kernelspec": {
   "display_name": "Python 3",
   "language": "python",
   "name": "python3"
  },
  "language_info": {
   "codemirror_mode": {
    "name": "ipython",
    "version": 3
   },
   "file_extension": ".py",
   "mimetype": "text/x-python",
   "name": "python",
   "nbconvert_exporter": "python",
   "pygments_lexer": "ipython3",
   "version": "3.12.0"
  },
  "orig_nbformat": 4
 },
 "nbformat": 4,
 "nbformat_minor": 2
}
