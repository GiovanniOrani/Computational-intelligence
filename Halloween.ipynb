{
 "cells": [
  {
   "cell_type": "code",
   "execution_count": 268,
   "metadata": {},
   "outputs": [],
   "source": [
    "import numpy as np\n",
    "import math\n",
    "from random import  choice, randint, seed, random\n",
    "from functools import reduce\n",
    "from itertools import product\n",
    "from copy import copy\n",
    "from scipy import sparse"
   ]
  },
  {
   "cell_type": "code",
   "execution_count": 269,
   "metadata": {},
   "outputs": [],
   "source": [
    "def fitness2(state,problem_size):\n",
    "    cost = sum(state)\n",
    "    valid = np.sum(\n",
    "        reduce(\n",
    "            np.logical_or,\n",
    "            [SETS.getrow(i).toarray() for i, t in enumerate(state) if t],\n",
    "            np.array([False for _ in range(problem_size)]),\n",
    "        )\n",
    "    )\n",
    "    return valid, -cost"
   ]
  },
  {
   "cell_type": "code",
   "execution_count": 270,
   "metadata": {},
   "outputs": [],
   "source": [
    "def tweak(state,problem_size):\n",
    "    new_state = copy(state)\n",
    "    index = randint(0, problem_size - 1)\n",
    "    new_state[index] = not new_state[index]\n",
    "    return new_state"
   ]
  },
  {
   "cell_type": "code",
   "execution_count": 271,
   "metadata": {},
   "outputs": [],
   "source": [
    "def make_set_covering_problem(num_points, num_sets, density):\n",
    "    \"\"\"Returns a sparse array where rows are sets and columns are the covered items\"\"\"\n",
    "    seed(num_points*2654435761+num_sets+density)\n",
    "    sets = sparse.lil_array((num_sets, num_points), dtype=bool)\n",
    "    for s, p in product(range(num_sets), range(num_points)):\n",
    "        if random() < density:\n",
    "            sets[s, p] = True\n",
    "    for p in range(num_points):\n",
    "        sets[randint(0, num_sets-1), p] = True\n",
    "    return sets"
   ]
  },
  {
   "cell_type": "code",
   "execution_count": 272,
   "metadata": {},
   "outputs": [],
   "source": [
    "def simulated_annealing(initial_state, size_of_problem):\n",
    "    current_state = initial_state\n",
    "    cooling_rate=0.97\n",
    "    cost=fitness2(current_state,size_of_problem)\n",
    "    best_cost=cost\n",
    "    temperature=cooling_rate\n",
    "    last_cost=fitness2(current_state,size_of_problem)\n",
    "    counter=1\n",
    "    while temperature > 0.001 :  \n",
    "        new_state = tweak(current_state,size_of_problem)\n",
    "        score_new=fitness2(new_state,size_of_problem)\n",
    "        score_curr=fitness2(current_state,size_of_problem)\n",
    "        counter+=2\n",
    "        if  score_new>score_curr or random() < math.exp( -((2*score_curr[0]+score_curr[1])-(2*score_new[0]+score_new[1]))/ temperature):\n",
    "            current_state = new_state\n",
    "            if(score_new[0]==size_of_problem):\n",
    "                    last_cost=score_new\n",
    "            if score_new>best_cost:\n",
    "                best_cost = score_new\n",
    "        \n",
    "        temperature *= cooling_rate\n",
    "    if(best_cost<=last_cost):\n",
    "        best_cost=last_cost\n",
    "    return best_cost, counter"
   ]
  },
  {
   "cell_type": "code",
   "execution_count": 273,
   "metadata": {},
   "outputs": [],
   "source": [
    "def tabu_search(initial_state, size_of_problem):\n",
    "    current_state = initial_state\n",
    "    best_value = fitness2(current_state, size_of_problem)\n",
    "    tabu_list = []\n",
    "    counter = 0\n",
    "\n",
    "    for _ in range(100):\n",
    "        neighbors = [tweak(current_state, size_of_problem) for _ in range(100)]\n",
    "\n",
    "        for neighbor in neighbors:\n",
    "            neighbor_value = fitness2(neighbor, size_of_problem)\n",
    "            counter += 1\n",
    "\n",
    "            if neighbor not in tabu_list and neighbor_value > best_value:\n",
    "                current_state = neighbor\n",
    "                best_value = neighbor_value\n",
    "\n",
    "        tabu_list.append(current_state)\n",
    "        if len(tabu_list) > 100:\n",
    "            tabu_list.pop(0)\n",
    "\n",
    "    return best_value, counter"
   ]
  },
  {
   "cell_type": "code",
   "execution_count": 274,
   "metadata": {},
   "outputs": [],
   "source": [
    "def iterated_local_search(current_state, size_of_problem):\n",
    "    steady_state_count = 0\n",
    "    steady_state_limit = 10\n",
    "    counter = 0\n",
    "    for iterations in range(10000):\n",
    "        new_state = tweak(current_state, size_of_problem)\n",
    "        if fitness2(new_state, size_of_problem) >= fitness2(current_state, size_of_problem):\n",
    "            steady_state_count = 0\n",
    "            counter += 2\n",
    "            current_state = new_state\n",
    "        else:\n",
    "            steady_state_count += 1\n",
    "            if steady_state_count == steady_state_limit:\n",
    "                temp_state = [choice([True, False]) for _ in range(size_of_problem)]\n",
    "                if fitness2(temp_state, size_of_problem) > fitness2(current_state, size_of_problem):\n",
    "                    current_state = temp_state\n",
    "                steady_state_count = 0\n",
    "    return fitness2(current_state, size_of_problem), counter"
   ]
  },
  {
   "cell_type": "code",
   "execution_count": 275,
   "metadata": {},
   "outputs": [
    {
     "name": "stdout",
     "output_type": "stream",
     "text": [
      "best score:  (100, -8) \n",
      "calls : 28 \n",
      "\n"
     ]
    }
   ],
   "source": [
    "\n",
    "current_state = [choice([False, False, False, False ]) for _ in range(j)]\n",
    "SETS=make_set_covering_problem(100,100,0.3)\n",
    "best_score,n_time =iterated_local_search(current_state,100)\n",
    "\n",
    "print(\"best score: \",best_score,\"\\ncalls :\",n_time,\"\\n\")"
   ]
  }
 ],
 "metadata": {
  "kernelspec": {
   "display_name": "Python 3",
   "language": "python",
   "name": "python3"
  },
  "language_info": {
   "codemirror_mode": {
    "name": "ipython",
    "version": 3
   },
   "file_extension": ".py",
   "mimetype": "text/x-python",
   "name": "python",
   "nbconvert_exporter": "python",
   "pygments_lexer": "ipython3",
   "version": "3.12.0"
  },
  "orig_nbformat": 4
 },
 "nbformat": 4,
 "nbformat_minor": 2
}
